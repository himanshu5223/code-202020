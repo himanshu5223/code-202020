{
 "cells": [
  {
   "cell_type": "code",
   "execution_count": 3,
   "metadata": {},
   "outputs": [],
   "source": [
    "# assignment_task_"
   ]
  },
  {
   "cell_type": "code",
   "execution_count": null,
   "metadata": {},
   "outputs": [],
   "source": [
    "from bs4 import BeautifulSoup\n",
    "import requests\n",
    "from urllib.request import urlopen as uReq\n",
    "import re\n",
    "import pandas as pd\n",
    "from googletrans import Translator\n",
    "all_data=[]\n",
    "\n",
    "headers={\n",
    "        'User-Agent':'Mozilla/5.0 (X11; Linux x86_64) AppleWebKit/537.36 (KHTML, like Gecko) Chrome/51.0.2704.103 Safari/537.36'\n",
    "}\n",
    "sentence=\"https://prefeitura.pbh.gov.br/saude/licitacao/pregao-eletronico-151-2020\"\n",
    "translator = Translator()\n",
    "result = translator.translate(sentence,src='pt',dest='en')\n",
    "r=result.text\n",
    "f = requests.get(r)\n",
    "soup=BeautifulSoup(f.content,'html.parser')\n",
    "content = soup.find_all('div',class_='item')\n",
    "for detail in content:\n",
    "    sku = detail.find('span',class_='col-sm-6 lbl-licitacao').text\n",
    "    publication_date=sku.split(':')[1]\n",
    "    Object = detail.find('p').text\n",
    "    content1 = soup.find_all('div',class_='field field--name-field-icone-link field--type-entity-reference field--label-hidden field__item')\n",
    "    for detail in content1:\n",
    "        a=detail.find('div',class_='field field--name-field-icone field--type-image field--label-hidden field__item')\n",
    "        for link in a.findAll('a'):\n",
    "            links=link.get('href')  #for extracting_link individually\n",
    "            #print(kii)\n",
    "            try:\n",
    "                for new_link in links:\n",
    "                    r = requests.get(links,timeout=2, verify=False, headers=headers)\n",
    "                    soup=BeautifulSoup(r.content,'html.parser')\n",
    "            except requests.exceptions.Timeout:\n",
    "                print(\"TimeoutError\")\n",
    "            data = {\n",
    "                'publication_date':publication_date,\n",
    "                'Object':Object,\n",
    "                'links':links    \n",
    "            }\n",
    "        all_data.append(data)\n",
    "print(len(all_data))    \n",
    "df=pd.DataFrame(all_data)\n",
    "df.head()\n",
    "df.to_csv('vamstar_task.csv',index=False)"
   ]
  },
  {
   "cell_type": "code",
   "execution_count": null,
   "metadata": {},
   "outputs": [],
   "source": []
  },
  {
   "cell_type": "code",
   "execution_count": null,
   "metadata": {},
   "outputs": [],
   "source": []
  },
  {
   "cell_type": "code",
   "execution_count": null,
   "metadata": {},
   "outputs": [],
   "source": []
  }
 ],
 "metadata": {
  "kernelspec": {
   "display_name": "Python 3",
   "language": "python",
   "name": "python3"
  },
  "language_info": {
   "codemirror_mode": {
    "name": "ipython",
    "version": 3
   },
   "file_extension": ".py",
   "mimetype": "text/x-python",
   "name": "python",
   "nbconvert_exporter": "python",
   "pygments_lexer": "ipython3",
   "version": "3.7.1"
  }
 },
 "nbformat": 4,
 "nbformat_minor": 2
}
